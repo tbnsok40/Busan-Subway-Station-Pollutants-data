{
 "cells": [
  {
   "cell_type": "code",
   "execution_count": 35,
   "metadata": {},
   "outputs": [],
   "source": [
    "import pandas as pd\n",
    "s1 = pd.read_csv('서면1p.csv',encoding='cp949')"
   ]
  },
  {
   "cell_type": "code",
   "execution_count": 40,
   "metadata": {},
   "outputs": [
    {
     "name": "stdout",
     "output_type": "stream",
     "text": [
      "year             2018.002972\n",
      "month               6.520787\n",
      "day                15.712621\n",
      "hour               11.508624\n",
      "CO (ppm)            0.456828\n",
      "CO2 (ppm)         531.028277\n",
      "NO2 (ppm)           0.040485\n",
      "PM2.5 (μg/m³)      21.858223\n",
      "PM10 (μg/m³)       39.623076\n",
      "HCHO (ppm)               NaN\n",
      "dtype: float64\n",
      "year              0.820140\n",
      "month             3.463341\n",
      "day               8.794466\n",
      "hour              6.943413\n",
      "CO (ppm)          0.177116\n",
      "CO2 (ppm)        69.111405\n",
      "NO2 (ppm)         0.016327\n",
      "PM2.5 (μg/m³)    19.554462\n",
      "PM10 (μg/m³)     21.485323\n",
      "HCHO (ppm)             NaN\n",
      "dtype: float64\n"
     ]
    }
   ],
   "source": [
    "is_0 = s1['PM2.5 (μg/m³)']!=0\n",
    "year = (s1['year']>=2017) & (s1['year']<=2019)\n",
    "s1 = s1[is_0 & year]\n",
    "print(s1.mean())\n",
    "print(s1.std())"
   ]
  },
  {
   "cell_type": "code",
   "execution_count": 42,
   "metadata": {},
   "outputs": [
    {
     "data": {
      "text/plain": [
       "year              0.816512\n",
       "month             3.447917\n",
       "day               8.796414\n",
       "hour              6.922318\n",
       "CO (ppm)          0.185698\n",
       "CO2 (ppm)        95.516677\n",
       "NO2 (ppm)         0.016964\n",
       "PM2.5 (μg/m³)    19.611504\n",
       "PM10 (μg/m³)     21.997532\n",
       "HCHO (ppm)             NaN\n",
       "dtype: float64"
      ]
     },
     "execution_count": 42,
     "metadata": {},
     "output_type": "execute_result"
    }
   ],
   "source": [
    "s1 = pd.read_csv('서면1p.csv',encoding='cp949')\n",
    "year = (s1['year']>=2017) & (s1['year']<=2019)\n",
    "s1 = s1[year]\n",
    "s1.std()"
   ]
  },
  {
   "cell_type": "code",
   "execution_count": 30,
   "metadata": {},
   "outputs": [
    {
     "data": {
      "text/plain": [
       "25.128763261950436"
      ]
     },
     "execution_count": 30,
     "metadata": {},
     "output_type": "execute_result"
    }
   ],
   "source": [
    "s1['PM2.5 (μg/m³)'].mean()"
   ]
  },
  {
   "cell_type": "code",
   "execution_count": 34,
   "metadata": {},
   "outputs": [
    {
     "name": "stdout",
     "output_type": "stream",
     "text": [
      "24.7838291792961\n",
      "24.21704878142684\n"
     ]
    }
   ],
   "source": [
    "s1 = pd.read_csv('서면1p.csv',encoding='cp949')\n",
    "print(s1['PM2.5 (μg/m³)'].mean())\n",
    "print(s1['PM2.5 (μg/m³)'].std())"
   ]
  },
  {
   "cell_type": "code",
   "execution_count": null,
   "metadata": {},
   "outputs": [],
   "source": [
    "s1['PM2.5 (μg/m³)'].mean()"
   ]
  }
 ],
 "metadata": {
  "kernelspec": {
   "display_name": "Python 3",
   "language": "python",
   "name": "python3"
  },
  "language_info": {
   "codemirror_mode": {
    "name": "ipython",
    "version": 3
   },
   "file_extension": ".py",
   "mimetype": "text/x-python",
   "name": "python",
   "nbconvert_exporter": "python",
   "pygments_lexer": "ipython3",
   "version": "3.7.3"
  }
 },
 "nbformat": 4,
 "nbformat_minor": 4
}
